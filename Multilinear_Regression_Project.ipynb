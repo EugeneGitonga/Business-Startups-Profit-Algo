{
  "nbformat": 4,
  "nbformat_minor": 0,
  "metadata": {
    "kernelspec": {
      "display_name": "Python 3",
      "language": "python",
      "name": "python3"
    },
    "language_info": {
      "codemirror_mode": {
        "name": "ipython",
        "version": 3
      },
      "file_extension": ".py",
      "mimetype": "text/x-python",
      "name": "python",
      "nbconvert_exporter": "python",
      "pygments_lexer": "ipython3",
      "version": "3.7.3"
    },
    "colab": {
      "name": "Group_1_Multilinear_Regression.ipynb",
      "provenance": [],
      "collapsed_sections": []
    }
  },
  "cells": [
    {
      "cell_type": "markdown",
      "metadata": {
        "id": "83AbGGF0HO0Z"
      },
      "source": [
        "MUIRU EUGENE GITONGA"
      ]
    },
    {
      "cell_type": "markdown",
      "metadata": {
        "id": "nCOt2b6QHO0k"
      },
      "source": [
        "**INTRODUCTION** "
      ]
    },
    {
      "cell_type": "markdown",
      "metadata": {
        "id": "AYvcd86fHO0m"
      },
      "source": [
        "This dataset(50 Startups dataset)has data collected from New York, California and Florida about 50 business Startups “17 in each\n",
        "state”. The variables used in the dataset are Profit, R&D spending, Administration Spending, and Marketing\n",
        "Spending."
      ]
    },
    {
      "cell_type": "markdown",
      "metadata": {
        "id": "o1Nl5n3OHO0n"
      },
      "source": [
        "**In this Project I have used Multiple Linear Regression Model since the target variable (Profit) depends on more than one independent variables(X).**"
      ]
    },
    {
      "cell_type": "code",
      "metadata": {
        "id": "No-bEsjUHO0o"
      },
      "source": [
        "import pandas as pd\n",
        "import numpy as np"
      ],
      "execution_count": null,
      "outputs": []
    },
    {
      "cell_type": "code",
      "metadata": {
        "id": "r6tcGWoXHO0q"
      },
      "source": [
        "Startups_df = pd.read_csv(\"50_CompList.csv\")"
      ],
      "execution_count": null,
      "outputs": []
    },
    {
      "cell_type": "markdown",
      "metadata": {
        "id": "i8QRm85IHO0r"
      },
      "source": [
        "**Splitting our Startups_df into dependent variable(y) and independent variables/predictor variables(X)**"
      ]
    },
    {
      "cell_type": "code",
      "metadata": {
        "id": "9LM7mLIrHO0t"
      },
      "source": [
        "X = Startups_df.drop(\"Profit\",axis=1)\n",
        "y = Startups_df[\"Profit\"] #Target variable/wlabel"
      ],
      "execution_count": null,
      "outputs": []
    },
    {
      "cell_type": "markdown",
      "metadata": {
        "id": "h8IeTuexHO0u"
      },
      "source": [
        "**DATA CLEANING** "
      ]
    },
    {
      "cell_type": "code",
      "metadata": {
        "id": "h5M3aS03HO0w",
        "outputId": "998c25ca-3ccc-4e6e-ee2b-b28b03ba6659"
      },
      "source": [
        "Startups_df.head(10).T"
      ],
      "execution_count": null,
      "outputs": [
        {
          "data": {
            "text/html": [
              "<div>\n",
              "<style scoped>\n",
              "    .dataframe tbody tr th:only-of-type {\n",
              "        vertical-align: middle;\n",
              "    }\n",
              "\n",
              "    .dataframe tbody tr th {\n",
              "        vertical-align: top;\n",
              "    }\n",
              "\n",
              "    .dataframe thead th {\n",
              "        text-align: right;\n",
              "    }\n",
              "</style>\n",
              "<table border=\"1\" class=\"dataframe\">\n",
              "  <thead>\n",
              "    <tr style=\"text-align: right;\">\n",
              "      <th></th>\n",
              "      <th>0</th>\n",
              "      <th>1</th>\n",
              "      <th>2</th>\n",
              "      <th>3</th>\n",
              "      <th>4</th>\n",
              "      <th>5</th>\n",
              "      <th>6</th>\n",
              "      <th>7</th>\n",
              "      <th>8</th>\n",
              "      <th>9</th>\n",
              "    </tr>\n",
              "  </thead>\n",
              "  <tbody>\n",
              "    <tr>\n",
              "      <th>R&amp;D Spend</th>\n",
              "      <td>165349.20</td>\n",
              "      <td>162597.70</td>\n",
              "      <td>153441.51</td>\n",
              "      <td>144372.41</td>\n",
              "      <td>142107.34</td>\n",
              "      <td>131876.90</td>\n",
              "      <td>134615.46</td>\n",
              "      <td>130298.13</td>\n",
              "      <td>120542.52</td>\n",
              "      <td>123334.88</td>\n",
              "    </tr>\n",
              "    <tr>\n",
              "      <th>Administration</th>\n",
              "      <td>136897.80</td>\n",
              "      <td>151377.59</td>\n",
              "      <td>101145.55</td>\n",
              "      <td>118671.85</td>\n",
              "      <td>91391.77</td>\n",
              "      <td>99814.71</td>\n",
              "      <td>147198.87</td>\n",
              "      <td>145530.06</td>\n",
              "      <td>148718.95</td>\n",
              "      <td>108679.17</td>\n",
              "    </tr>\n",
              "    <tr>\n",
              "      <th>Marketing Spend</th>\n",
              "      <td>471784.10</td>\n",
              "      <td>443898.53</td>\n",
              "      <td>407934.54</td>\n",
              "      <td>383199.62</td>\n",
              "      <td>366168.42</td>\n",
              "      <td>362861.36</td>\n",
              "      <td>127716.82</td>\n",
              "      <td>323876.68</td>\n",
              "      <td>311613.29</td>\n",
              "      <td>304981.62</td>\n",
              "    </tr>\n",
              "    <tr>\n",
              "      <th>Profit</th>\n",
              "      <td>192261.83</td>\n",
              "      <td>191792.06</td>\n",
              "      <td>191050.39</td>\n",
              "      <td>182901.99</td>\n",
              "      <td>166187.94</td>\n",
              "      <td>156991.12</td>\n",
              "      <td>156122.51</td>\n",
              "      <td>155752.60</td>\n",
              "      <td>152211.77</td>\n",
              "      <td>149759.96</td>\n",
              "    </tr>\n",
              "  </tbody>\n",
              "</table>\n",
              "</div>"
            ],
            "text/plain": [
              "                         0          1          2          3          4  \\\n",
              "R&D Spend        165349.20  162597.70  153441.51  144372.41  142107.34   \n",
              "Administration   136897.80  151377.59  101145.55  118671.85   91391.77   \n",
              "Marketing Spend  471784.10  443898.53  407934.54  383199.62  366168.42   \n",
              "Profit           192261.83  191792.06  191050.39  182901.99  166187.94   \n",
              "\n",
              "                         5          6          7          8          9  \n",
              "R&D Spend        131876.90  134615.46  130298.13  120542.52  123334.88  \n",
              "Administration    99814.71  147198.87  145530.06  148718.95  108679.17  \n",
              "Marketing Spend  362861.36  127716.82  323876.68  311613.29  304981.62  \n",
              "Profit           156991.12  156122.51  155752.60  152211.77  149759.96  "
            ]
          },
          "execution_count": 4,
          "metadata": {},
          "output_type": "execute_result"
        }
      ]
    },
    {
      "cell_type": "code",
      "metadata": {
        "id": "IEr-HPr7HO00"
      },
      "source": [
        "X = Startups_df.drop(\"Profit\",axis=1)\n",
        "y = Startups_df[\"Profit\"] #Target variable/wlabel"
      ],
      "execution_count": null,
      "outputs": []
    },
    {
      "cell_type": "code",
      "metadata": {
        "id": "rJqrN8JmHO02",
        "outputId": "ae38d5a9-07eb-4513-9662-58f0724bf6b6"
      },
      "source": [
        "Startups_df.head(4).T"
      ],
      "execution_count": null,
      "outputs": [
        {
          "data": {
            "text/html": [
              "<div>\n",
              "<style scoped>\n",
              "    .dataframe tbody tr th:only-of-type {\n",
              "        vertical-align: middle;\n",
              "    }\n",
              "\n",
              "    .dataframe tbody tr th {\n",
              "        vertical-align: top;\n",
              "    }\n",
              "\n",
              "    .dataframe thead th {\n",
              "        text-align: right;\n",
              "    }\n",
              "</style>\n",
              "<table border=\"1\" class=\"dataframe\">\n",
              "  <thead>\n",
              "    <tr style=\"text-align: right;\">\n",
              "      <th></th>\n",
              "      <th>0</th>\n",
              "      <th>1</th>\n",
              "      <th>2</th>\n",
              "      <th>3</th>\n",
              "    </tr>\n",
              "  </thead>\n",
              "  <tbody>\n",
              "    <tr>\n",
              "      <th>R&amp;D Spend</th>\n",
              "      <td>165349.20</td>\n",
              "      <td>162597.70</td>\n",
              "      <td>153441.51</td>\n",
              "      <td>144372.41</td>\n",
              "    </tr>\n",
              "    <tr>\n",
              "      <th>Administration</th>\n",
              "      <td>136897.80</td>\n",
              "      <td>151377.59</td>\n",
              "      <td>101145.55</td>\n",
              "      <td>118671.85</td>\n",
              "    </tr>\n",
              "    <tr>\n",
              "      <th>Marketing Spend</th>\n",
              "      <td>471784.10</td>\n",
              "      <td>443898.53</td>\n",
              "      <td>407934.54</td>\n",
              "      <td>383199.62</td>\n",
              "    </tr>\n",
              "    <tr>\n",
              "      <th>Profit</th>\n",
              "      <td>192261.83</td>\n",
              "      <td>191792.06</td>\n",
              "      <td>191050.39</td>\n",
              "      <td>182901.99</td>\n",
              "    </tr>\n",
              "  </tbody>\n",
              "</table>\n",
              "</div>"
            ],
            "text/plain": [
              "                         0          1          2          3\n",
              "R&D Spend        165349.20  162597.70  153441.51  144372.41\n",
              "Administration   136897.80  151377.59  101145.55  118671.85\n",
              "Marketing Spend  471784.10  443898.53  407934.54  383199.62\n",
              "Profit           192261.83  191792.06  191050.39  182901.99"
            ]
          },
          "execution_count": 6,
          "metadata": {},
          "output_type": "execute_result"
        }
      ]
    },
    {
      "cell_type": "code",
      "metadata": {
        "id": "0qsdRV1HHO04",
        "outputId": "91eedda5-9915-44d3-ac39-5cf0eda878ac"
      },
      "source": [
        "Startups_df.sample()"
      ],
      "execution_count": null,
      "outputs": [
        {
          "data": {
            "text/html": [
              "<div>\n",
              "<style scoped>\n",
              "    .dataframe tbody tr th:only-of-type {\n",
              "        vertical-align: middle;\n",
              "    }\n",
              "\n",
              "    .dataframe tbody tr th {\n",
              "        vertical-align: top;\n",
              "    }\n",
              "\n",
              "    .dataframe thead th {\n",
              "        text-align: right;\n",
              "    }\n",
              "</style>\n",
              "<table border=\"1\" class=\"dataframe\">\n",
              "  <thead>\n",
              "    <tr style=\"text-align: right;\">\n",
              "      <th></th>\n",
              "      <th>R&amp;D Spend</th>\n",
              "      <th>Administration</th>\n",
              "      <th>Marketing Spend</th>\n",
              "      <th>Profit</th>\n",
              "    </tr>\n",
              "  </thead>\n",
              "  <tbody>\n",
              "    <tr>\n",
              "      <th>48</th>\n",
              "      <td>542.05</td>\n",
              "      <td>51743.15</td>\n",
              "      <td>0.0</td>\n",
              "      <td>35673.41</td>\n",
              "    </tr>\n",
              "  </tbody>\n",
              "</table>\n",
              "</div>"
            ],
            "text/plain": [
              "    R&D Spend  Administration  Marketing Spend    Profit\n",
              "48     542.05        51743.15              0.0  35673.41"
            ]
          },
          "execution_count": 7,
          "metadata": {},
          "output_type": "execute_result"
        }
      ]
    },
    {
      "cell_type": "code",
      "metadata": {
        "id": "hGEjgob_HO05"
      },
      "source": [
        "# We will use the isna() to check for null value and it should return true if there is any."
      ],
      "execution_count": null,
      "outputs": []
    },
    {
      "cell_type": "code",
      "metadata": {
        "id": "YEhowmPpHO06",
        "outputId": "5f3b58db-250d-44c1-c0e0-66f07ce51e2e"
      },
      "source": [
        "Startups_df.isna().T"
      ],
      "execution_count": null,
      "outputs": [
        {
          "data": {
            "text/html": [
              "<div>\n",
              "<style scoped>\n",
              "    .dataframe tbody tr th:only-of-type {\n",
              "        vertical-align: middle;\n",
              "    }\n",
              "\n",
              "    .dataframe tbody tr th {\n",
              "        vertical-align: top;\n",
              "    }\n",
              "\n",
              "    .dataframe thead th {\n",
              "        text-align: right;\n",
              "    }\n",
              "</style>\n",
              "<table border=\"1\" class=\"dataframe\">\n",
              "  <thead>\n",
              "    <tr style=\"text-align: right;\">\n",
              "      <th></th>\n",
              "      <th>0</th>\n",
              "      <th>1</th>\n",
              "      <th>2</th>\n",
              "      <th>3</th>\n",
              "      <th>4</th>\n",
              "      <th>5</th>\n",
              "      <th>6</th>\n",
              "      <th>7</th>\n",
              "      <th>8</th>\n",
              "      <th>9</th>\n",
              "      <th>...</th>\n",
              "      <th>40</th>\n",
              "      <th>41</th>\n",
              "      <th>42</th>\n",
              "      <th>43</th>\n",
              "      <th>44</th>\n",
              "      <th>45</th>\n",
              "      <th>46</th>\n",
              "      <th>47</th>\n",
              "      <th>48</th>\n",
              "      <th>49</th>\n",
              "    </tr>\n",
              "  </thead>\n",
              "  <tbody>\n",
              "    <tr>\n",
              "      <th>R&amp;D Spend</th>\n",
              "      <td>False</td>\n",
              "      <td>False</td>\n",
              "      <td>False</td>\n",
              "      <td>False</td>\n",
              "      <td>False</td>\n",
              "      <td>False</td>\n",
              "      <td>False</td>\n",
              "      <td>False</td>\n",
              "      <td>False</td>\n",
              "      <td>False</td>\n",
              "      <td>...</td>\n",
              "      <td>False</td>\n",
              "      <td>False</td>\n",
              "      <td>False</td>\n",
              "      <td>False</td>\n",
              "      <td>False</td>\n",
              "      <td>False</td>\n",
              "      <td>False</td>\n",
              "      <td>False</td>\n",
              "      <td>False</td>\n",
              "      <td>False</td>\n",
              "    </tr>\n",
              "    <tr>\n",
              "      <th>Administration</th>\n",
              "      <td>False</td>\n",
              "      <td>False</td>\n",
              "      <td>False</td>\n",
              "      <td>False</td>\n",
              "      <td>False</td>\n",
              "      <td>False</td>\n",
              "      <td>False</td>\n",
              "      <td>False</td>\n",
              "      <td>False</td>\n",
              "      <td>False</td>\n",
              "      <td>...</td>\n",
              "      <td>False</td>\n",
              "      <td>False</td>\n",
              "      <td>False</td>\n",
              "      <td>False</td>\n",
              "      <td>False</td>\n",
              "      <td>False</td>\n",
              "      <td>False</td>\n",
              "      <td>False</td>\n",
              "      <td>False</td>\n",
              "      <td>False</td>\n",
              "    </tr>\n",
              "    <tr>\n",
              "      <th>Marketing Spend</th>\n",
              "      <td>False</td>\n",
              "      <td>False</td>\n",
              "      <td>False</td>\n",
              "      <td>False</td>\n",
              "      <td>False</td>\n",
              "      <td>False</td>\n",
              "      <td>False</td>\n",
              "      <td>False</td>\n",
              "      <td>False</td>\n",
              "      <td>False</td>\n",
              "      <td>...</td>\n",
              "      <td>False</td>\n",
              "      <td>False</td>\n",
              "      <td>False</td>\n",
              "      <td>False</td>\n",
              "      <td>False</td>\n",
              "      <td>False</td>\n",
              "      <td>False</td>\n",
              "      <td>False</td>\n",
              "      <td>False</td>\n",
              "      <td>False</td>\n",
              "    </tr>\n",
              "    <tr>\n",
              "      <th>Profit</th>\n",
              "      <td>False</td>\n",
              "      <td>False</td>\n",
              "      <td>False</td>\n",
              "      <td>False</td>\n",
              "      <td>False</td>\n",
              "      <td>False</td>\n",
              "      <td>False</td>\n",
              "      <td>False</td>\n",
              "      <td>False</td>\n",
              "      <td>False</td>\n",
              "      <td>...</td>\n",
              "      <td>False</td>\n",
              "      <td>False</td>\n",
              "      <td>False</td>\n",
              "      <td>False</td>\n",
              "      <td>False</td>\n",
              "      <td>False</td>\n",
              "      <td>False</td>\n",
              "      <td>False</td>\n",
              "      <td>False</td>\n",
              "      <td>False</td>\n",
              "    </tr>\n",
              "  </tbody>\n",
              "</table>\n",
              "<p>4 rows × 50 columns</p>\n",
              "</div>"
            ],
            "text/plain": [
              "                    0      1      2      3      4      5      6      7   \\\n",
              "R&D Spend        False  False  False  False  False  False  False  False   \n",
              "Administration   False  False  False  False  False  False  False  False   \n",
              "Marketing Spend  False  False  False  False  False  False  False  False   \n",
              "Profit           False  False  False  False  False  False  False  False   \n",
              "\n",
              "                    8      9   ...     40     41     42     43     44     45  \\\n",
              "R&D Spend        False  False  ...  False  False  False  False  False  False   \n",
              "Administration   False  False  ...  False  False  False  False  False  False   \n",
              "Marketing Spend  False  False  ...  False  False  False  False  False  False   \n",
              "Profit           False  False  ...  False  False  False  False  False  False   \n",
              "\n",
              "                    46     47     48     49  \n",
              "R&D Spend        False  False  False  False  \n",
              "Administration   False  False  False  False  \n",
              "Marketing Spend  False  False  False  False  \n",
              "Profit           False  False  False  False  \n",
              "\n",
              "[4 rows x 50 columns]"
            ]
          },
          "execution_count": 9,
          "metadata": {},
          "output_type": "execute_result"
        }
      ]
    },
    {
      "cell_type": "code",
      "metadata": {
        "id": "hP3VM8fpHO06"
      },
      "source": [
        "# The .info() is also used to check for null values and also data types."
      ],
      "execution_count": null,
      "outputs": []
    },
    {
      "cell_type": "code",
      "metadata": {
        "id": "bnicO1RIHO07",
        "outputId": "3eb89534-0ed0-4150-8eeb-b7510fb4602d"
      },
      "source": [
        "Startups_df.info()"
      ],
      "execution_count": null,
      "outputs": [
        {
          "name": "stdout",
          "output_type": "stream",
          "text": [
            "<class 'pandas.core.frame.DataFrame'>\n",
            "RangeIndex: 50 entries, 0 to 49\n",
            "Data columns (total 4 columns):\n",
            "R&D Spend          50 non-null float64\n",
            "Administration     50 non-null float64\n",
            "Marketing Spend    50 non-null float64\n",
            "Profit             50 non-null float64\n",
            "dtypes: float64(4)\n",
            "memory usage: 1.6 KB\n"
          ]
        }
      ]
    },
    {
      "cell_type": "code",
      "metadata": {
        "id": "9UDZKgaRHO08",
        "outputId": "1766a44c-df27-45c6-c79f-4b478602ba9e"
      },
      "source": [
        "Startups_df.shape"
      ],
      "execution_count": null,
      "outputs": [
        {
          "data": {
            "text/plain": [
              "(50, 4)"
            ]
          },
          "execution_count": 12,
          "metadata": {},
          "output_type": "execute_result"
        }
      ]
    },
    {
      "cell_type": "code",
      "metadata": {
        "id": "9aZ2IeahHO08",
        "outputId": "c8cc5cc4-3c02-46f9-fb55-115ae94a0ffe"
      },
      "source": [
        "Startups_df.size"
      ],
      "execution_count": null,
      "outputs": [
        {
          "data": {
            "text/plain": [
              "200"
            ]
          },
          "execution_count": 13,
          "metadata": {},
          "output_type": "execute_result"
        }
      ]
    },
    {
      "cell_type": "markdown",
      "metadata": {
        "id": "chZ0nRsDHO09"
      },
      "source": [
        "**Explanatory Data Analysis**"
      ]
    },
    {
      "cell_type": "markdown",
      "metadata": {
        "id": "O4WOiHi2HO0_"
      },
      "source": [
        "Here I will visualize our Startups dataset to find insights"
      ]
    },
    {
      "cell_type": "code",
      "metadata": {
        "id": "cH5EYAIWHO1A"
      },
      "source": [
        "#I will first analyse our statistical part of our data using .describe()"
      ],
      "execution_count": null,
      "outputs": []
    },
    {
      "cell_type": "code",
      "metadata": {
        "id": "EXuPlXfrHO1A",
        "outputId": "61393003-5804-4631-97b0-3cca326ee7d1"
      },
      "source": [
        "Startups_df.describe()"
      ],
      "execution_count": null,
      "outputs": [
        {
          "data": {
            "text/html": [
              "<div>\n",
              "<style scoped>\n",
              "    .dataframe tbody tr th:only-of-type {\n",
              "        vertical-align: middle;\n",
              "    }\n",
              "\n",
              "    .dataframe tbody tr th {\n",
              "        vertical-align: top;\n",
              "    }\n",
              "\n",
              "    .dataframe thead th {\n",
              "        text-align: right;\n",
              "    }\n",
              "</style>\n",
              "<table border=\"1\" class=\"dataframe\">\n",
              "  <thead>\n",
              "    <tr style=\"text-align: right;\">\n",
              "      <th></th>\n",
              "      <th>R&amp;D Spend</th>\n",
              "      <th>Administration</th>\n",
              "      <th>Marketing Spend</th>\n",
              "      <th>Profit</th>\n",
              "    </tr>\n",
              "  </thead>\n",
              "  <tbody>\n",
              "    <tr>\n",
              "      <th>count</th>\n",
              "      <td>50.000000</td>\n",
              "      <td>50.000000</td>\n",
              "      <td>50.000000</td>\n",
              "      <td>50.000000</td>\n",
              "    </tr>\n",
              "    <tr>\n",
              "      <th>mean</th>\n",
              "      <td>73721.615600</td>\n",
              "      <td>121344.639600</td>\n",
              "      <td>211025.097800</td>\n",
              "      <td>112012.639200</td>\n",
              "    </tr>\n",
              "    <tr>\n",
              "      <th>std</th>\n",
              "      <td>45902.256482</td>\n",
              "      <td>28017.802755</td>\n",
              "      <td>122290.310726</td>\n",
              "      <td>40306.180338</td>\n",
              "    </tr>\n",
              "    <tr>\n",
              "      <th>min</th>\n",
              "      <td>0.000000</td>\n",
              "      <td>51283.140000</td>\n",
              "      <td>0.000000</td>\n",
              "      <td>14681.400000</td>\n",
              "    </tr>\n",
              "    <tr>\n",
              "      <th>25%</th>\n",
              "      <td>39936.370000</td>\n",
              "      <td>103730.875000</td>\n",
              "      <td>129300.132500</td>\n",
              "      <td>90138.902500</td>\n",
              "    </tr>\n",
              "    <tr>\n",
              "      <th>50%</th>\n",
              "      <td>73051.080000</td>\n",
              "      <td>122699.795000</td>\n",
              "      <td>212716.240000</td>\n",
              "      <td>107978.190000</td>\n",
              "    </tr>\n",
              "    <tr>\n",
              "      <th>75%</th>\n",
              "      <td>101602.800000</td>\n",
              "      <td>144842.180000</td>\n",
              "      <td>299469.085000</td>\n",
              "      <td>139765.977500</td>\n",
              "    </tr>\n",
              "    <tr>\n",
              "      <th>max</th>\n",
              "      <td>165349.200000</td>\n",
              "      <td>182645.560000</td>\n",
              "      <td>471784.100000</td>\n",
              "      <td>192261.830000</td>\n",
              "    </tr>\n",
              "  </tbody>\n",
              "</table>\n",
              "</div>"
            ],
            "text/plain": [
              "           R&D Spend  Administration  Marketing Spend         Profit\n",
              "count      50.000000       50.000000        50.000000      50.000000\n",
              "mean    73721.615600   121344.639600    211025.097800  112012.639200\n",
              "std     45902.256482    28017.802755    122290.310726   40306.180338\n",
              "min         0.000000    51283.140000         0.000000   14681.400000\n",
              "25%     39936.370000   103730.875000    129300.132500   90138.902500\n",
              "50%     73051.080000   122699.795000    212716.240000  107978.190000\n",
              "75%    101602.800000   144842.180000    299469.085000  139765.977500\n",
              "max    165349.200000   182645.560000    471784.100000  192261.830000"
            ]
          },
          "execution_count": 15,
          "metadata": {},
          "output_type": "execute_result"
        }
      ]
    },
    {
      "cell_type": "code",
      "metadata": {
        "id": "S4uNOvLKHO1C"
      },
      "source": [
        "#I will then visualize our data to be able to analyse various data points and also draw our model by finding the lines of best fit."
      ],
      "execution_count": null,
      "outputs": []
    },
    {
      "cell_type": "code",
      "metadata": {
        "id": "1M0nE-C9HO1C"
      },
      "source": [
        "import seaborn as sns\n",
        "import matplotlib.pyplot as plt"
      ],
      "execution_count": null,
      "outputs": []
    },
    {
      "cell_type": "code",
      "metadata": {
        "id": "O0HJIROcHO1D",
        "outputId": "812e9d9f-0a0b-40b5-d64b-79be8128138e"
      },
      "source": [
        "#plotting R&D Spend against profit\n",
        "sns.scatterplot(x=\"R&D Spend\",\n",
        "           y=\"Profit\",\n",
        "           data = Startups_df)"
      ],
      "execution_count": null,
      "outputs": [
        {
          "data": {
            "text/plain": [
              "<matplotlib.axes._subplots.AxesSubplot at 0x1c570a7ea58>"
            ]
          },
          "execution_count": 18,
          "metadata": {},
          "output_type": "execute_result"
        },
        {
          "data": {
            "image/png": "[encoded data removed]",
            "text/plain": [
              "<Figure size 432x288 with 1 Axes>"
            ]
          },
          "metadata": {
            "needs_background": "light"
          },
          "output_type": "display_data"
        }
      ]
    },
    {
      "cell_type": "code",
      "metadata": {
        "id": "nSnG-g1GHO1E",
        "outputId": "b2b9a09a-e146-4a85-b984-039d8508593a"
      },
      "source": [
        "#plotting Administration against profit\n",
        "sns.scatterplot(x=\"Administration\",\n",
        "           y=\"Profit\",\n",
        "           data = Startups_df)"
      ],
      "execution_count": null,
      "outputs": [
        {
          "data": {
            "text/plain": [
              "<matplotlib.axes._subplots.AxesSubplot at 0x1c571b36f28>"
            ]
          },
          "execution_count": 19,
          "metadata": {},
          "output_type": "execute_result"
        },
        {
          "data": {
            "image/png": "[encoded data removed]",
            "text/plain": [
              "<Figure size 432x288 with 1 Axes>"
            ]
          },
          "metadata": {
            "needs_background": "light"
          },
          "output_type": "display_data"
        }
      ]
    },
    {
      "cell_type": "code",
      "metadata": {
        "id": "9xPbn_PPHO1J",
        "outputId": "768b09d4-6c0a-4cbc-e19b-dfea27850f30"
      },
      "source": [
        "#plotting Administration against profit\n",
        "sns.scatterplot(x=\"Marketing Spend\",\n",
        "           y=\"Profit\",\n",
        "           data = Startups_df)"
      ],
      "execution_count": null,
      "outputs": [
        {
          "data": {
            "text/plain": [
              "<matplotlib.axes._subplots.AxesSubplot at 0x1c570b0d0f0>"
            ]
          },
          "execution_count": 20,
          "metadata": {},
          "output_type": "execute_result"
        },
        {
          "data": {
            "image/png": "[encoded data removed]",
            "text/plain": [
              "<Figure size 432x288 with 1 Axes>"
            ]
          },
          "metadata": {
            "needs_background": "light"
          },
          "output_type": "display_data"
        }
      ]
    },
    {
      "cell_type": "markdown",
      "metadata": {
        "id": "THmQlNK3HO1K"
      },
      "source": [
        "Now I will build our Model (**y = b0 + b1x1 + b2x2 + …….. + bnxn**)\n",
        "## by drawing the line of best fit."
      ]
    },
    {
      "cell_type": "code",
      "metadata": {
        "id": "fMSbyFgBHO1K",
        "outputId": "91273968-a99a-46e7-d367-caa991894b44"
      },
      "source": [
        "sns.regplot(x=\"R&D Spend\",\n",
        "           y=\"Profit\",\n",
        "           data = Startups_df)\n",
        "plt.show()\n",
        "\n",
        "\n",
        "sns.regplot(x=\"Administration\",\n",
        "           y=\"Profit\",\n",
        "           data = Startups_df)\n",
        "plt.show()\n",
        "\n",
        "\n",
        "sns.regplot(x=\"Marketing Spend\",\n",
        "           y=\"Profit\",\n",
        "           data = Startups_df)\n",
        "\n",
        "plt.show()"
      ],
      "execution_count": null,
      "outputs": [
        {
          "data": {
            "image/png": "[encoded data removed]",
            "text/plain": [
              "<Figure size 432x288 with 1 Axes>"
            ]
          },
          "metadata": {
            "needs_background": "light"
          },
          "output_type": "display_data"
        },
        {
          "data": {
            "image/png": "[encoded data removed]",
            "text/plain": [
              "<Figure size 432x288 with 1 Axes>"
            ]
          },
          "metadata": {
            "needs_background": "light"
          },
          "output_type": "display_data"
        },
        {
          "data": {
            "image/png": "[encoded data removed]",
            "text/plain": [
              "<Figure size 432x288 with 1 Axes>"
            ]
          },
          "metadata": {
            "needs_background": "light"
          },
          "output_type": "display_data"
        }
      ]
    },
    {
      "cell_type": "markdown",
      "metadata": {
        "id": "N7qFBEykHO1L"
      },
      "source": [
        "**Checking for Correlations in our Data between our columns**\n",
        " \n",
        "From below table we can see R&D Spend and Marketing Spend both have good affect in Profit."
      ]
    },
    {
      "cell_type": "code",
      "metadata": {
        "id": "brLvGEilHO1M",
        "outputId": "eaa92ea2-0a4e-49f2-f156-0d7e009ceefa"
      },
      "source": [
        "Startups_df.corr()"
      ],
      "execution_count": null,
      "outputs": [
        {
          "data": {
            "text/html": [
              "<div>\n",
              "<style scoped>\n",
              "    .dataframe tbody tr th:only-of-type {\n",
              "        vertical-align: middle;\n",
              "    }\n",
              "\n",
              "    .dataframe tbody tr th {\n",
              "        vertical-align: top;\n",
              "    }\n",
              "\n",
              "    .dataframe thead th {\n",
              "        text-align: right;\n",
              "    }\n",
              "</style>\n",
              "<table border=\"1\" class=\"dataframe\">\n",
              "  <thead>\n",
              "    <tr style=\"text-align: right;\">\n",
              "      <th></th>\n",
              "      <th>R&amp;D Spend</th>\n",
              "      <th>Administration</th>\n",
              "      <th>Marketing Spend</th>\n",
              "      <th>Profit</th>\n",
              "    </tr>\n",
              "  </thead>\n",
              "  <tbody>\n",
              "    <tr>\n",
              "      <th>R&amp;D Spend</th>\n",
              "      <td>1.000000</td>\n",
              "      <td>0.241955</td>\n",
              "      <td>0.724248</td>\n",
              "      <td>0.972900</td>\n",
              "    </tr>\n",
              "    <tr>\n",
              "      <th>Administration</th>\n",
              "      <td>0.241955</td>\n",
              "      <td>1.000000</td>\n",
              "      <td>-0.032154</td>\n",
              "      <td>0.200717</td>\n",
              "    </tr>\n",
              "    <tr>\n",
              "      <th>Marketing Spend</th>\n",
              "      <td>0.724248</td>\n",
              "      <td>-0.032154</td>\n",
              "      <td>1.000000</td>\n",
              "      <td>0.747766</td>\n",
              "    </tr>\n",
              "    <tr>\n",
              "      <th>Profit</th>\n",
              "      <td>0.972900</td>\n",
              "      <td>0.200717</td>\n",
              "      <td>0.747766</td>\n",
              "      <td>1.000000</td>\n",
              "    </tr>\n",
              "  </tbody>\n",
              "</table>\n",
              "</div>"
            ],
            "text/plain": [
              "                 R&D Spend  Administration  Marketing Spend    Profit\n",
              "R&D Spend         1.000000        0.241955         0.724248  0.972900\n",
              "Administration    0.241955        1.000000        -0.032154  0.200717\n",
              "Marketing Spend   0.724248       -0.032154         1.000000  0.747766\n",
              "Profit            0.972900        0.200717         0.747766  1.000000"
            ]
          },
          "execution_count": 22,
          "metadata": {},
          "output_type": "execute_result"
        }
      ]
    },
    {
      "cell_type": "markdown",
      "metadata": {
        "id": "ridMGz8CHO1N"
      },
      "source": [
        "**Training and Testing our Model**"
      ]
    },
    {
      "cell_type": "markdown",
      "metadata": {
        "id": "QMl4n-VQHO1N"
      },
      "source": [
        "**Here I have Split our data into training and testing sets**\n",
        "\n",
        "i have allocated 20% of our data for testing and 70% for training\n"
      ]
    },
    {
      "cell_type": "code",
      "metadata": {
        "id": "waCv3tG4HO1O"
      },
      "source": [
        "from sklearn.linear_model import LinearRegression\n",
        "lr = LinearRegression()"
      ],
      "execution_count": null,
      "outputs": []
    },
    {
      "cell_type": "code",
      "metadata": {
        "id": "klDFSJ3FHO1O"
      },
      "source": [
        "from sklearn.model_selection import train_test_split\n",
        "(X_train,X_test,y_train,y_test)= train_test_split( X,y,test_size = 0.2)"
      ],
      "execution_count": null,
      "outputs": []
    },
    {
      "cell_type": "code",
      "metadata": {
        "id": "sM11B2dDHO1P",
        "outputId": "dae1a238-81a2-4b34-8859-951bbf592184"
      },
      "source": [
        "X_train.shape"
      ],
      "execution_count": null,
      "outputs": [
        {
          "data": {
            "text/plain": [
              "(40, 3)"
            ]
          },
          "execution_count": 25,
          "metadata": {},
          "output_type": "execute_result"
        }
      ]
    },
    {
      "cell_type": "code",
      "metadata": {
        "id": "vGsKi3RZHO1Q",
        "outputId": "b8c5226e-7b0f-459d-faf2-14f3b1e6d216"
      },
      "source": [
        "y_train.shape"
      ],
      "execution_count": null,
      "outputs": [
        {
          "data": {
            "text/plain": [
              "(40,)"
            ]
          },
          "execution_count": 26,
          "metadata": {},
          "output_type": "execute_result"
        }
      ]
    },
    {
      "cell_type": "code",
      "metadata": {
        "id": "RgL0YK8VHO1S",
        "outputId": "f0016520-0dc0-4e28-80ad-3677551e7494"
      },
      "source": [
        "X_test.shape"
      ],
      "execution_count": null,
      "outputs": [
        {
          "data": {
            "text/plain": [
              "(10, 3)"
            ]
          },
          "execution_count": 27,
          "metadata": {},
          "output_type": "execute_result"
        }
      ]
    },
    {
      "cell_type": "code",
      "metadata": {
        "id": "DX7C96OHHO1S",
        "outputId": "41eb0599-cb81-44f8-8606-bc47d32af797"
      },
      "source": [
        "y_test.shape"
      ],
      "execution_count": null,
      "outputs": [
        {
          "data": {
            "text/plain": [
              "(10,)"
            ]
          },
          "execution_count": 28,
          "metadata": {},
          "output_type": "execute_result"
        }
      ]
    },
    {
      "cell_type": "code",
      "metadata": {
        "id": "cLyNK2bxHO1T",
        "outputId": "221e6a89-29d2-4528-a16b-26b2aa981ab4"
      },
      "source": [
        "lr.fit(X_train,y_train)\n",
        "print('Model has been trained successfully')"
      ],
      "execution_count": null,
      "outputs": [
        {
          "name": "stdout",
          "output_type": "stream",
          "text": [
            "Model has been trained successfully\n"
          ]
        }
      ]
    },
    {
      "cell_type": "code",
      "metadata": {
        "id": "5h0uoG4YHO1T",
        "outputId": "a0f7b038-fe90-4cb2-896e-6a11d1d472ac"
      },
      "source": [
        "print(\"Coefficients: \", lr.coef_)\n",
        "print(\"Intercept: \", lr.intercept_)"
      ],
      "execution_count": null,
      "outputs": [
        {
          "name": "stdout",
          "output_type": "stream",
          "text": [
            "Coefficients:  [ 0.82087368 -0.04736481  0.03671227]\n",
            "Intercept:  49718.78485990409\n"
          ]
        }
      ]
    },
    {
      "cell_type": "markdown",
      "metadata": {
        "id": "9FqWd_jHHO1U"
      },
      "source": [
        "**I will get the prediction of the profits of the startups from our model**\n"
      ]
    },
    {
      "cell_type": "code",
      "metadata": {
        "id": "53gYp-grHO1U",
        "outputId": "662e0204-1ba1-49e9-e7bd-aa99be109804"
      },
      "source": [
        "# In the next step, I'm going to predict the profit of the test set using the trained model namely “lr”.\n",
        "# The real values (profits) of the test set data(X_test) is stored in the variable (y_test)\n",
        "\n",
        "Profits_prediction = lr.predict(X_test)\n",
        "\n",
        "Profits_prediction = pd.DataFrame(Profits_prediction)\n",
        "\n",
        "Profits_prediction"
      ],
      "execution_count": null,
      "outputs": [
        {
          "data": {
            "text/html": [
              "<div>\n",
              "<style scoped>\n",
              "    .dataframe tbody tr th:only-of-type {\n",
              "        vertical-align: middle;\n",
              "    }\n",
              "\n",
              "    .dataframe tbody tr th {\n",
              "        vertical-align: top;\n",
              "    }\n",
              "\n",
              "    .dataframe thead th {\n",
              "        text-align: right;\n",
              "    }\n",
              "</style>\n",
              "<table border=\"1\" class=\"dataframe\">\n",
              "  <thead>\n",
              "    <tr style=\"text-align: right;\">\n",
              "      <th></th>\n",
              "      <th>0</th>\n",
              "    </tr>\n",
              "  </thead>\n",
              "  <tbody>\n",
              "    <tr>\n",
              "      <th>0</th>\n",
              "      <td>175485.080978</td>\n",
              "    </tr>\n",
              "    <tr>\n",
              "      <th>1</th>\n",
              "      <td>101255.355965</td>\n",
              "    </tr>\n",
              "    <tr>\n",
              "      <th>2</th>\n",
              "      <td>44729.260125</td>\n",
              "    </tr>\n",
              "    <tr>\n",
              "      <th>3</th>\n",
              "      <td>91007.246737</td>\n",
              "    </tr>\n",
              "    <tr>\n",
              "      <th>4</th>\n",
              "      <td>157010.141841</td>\n",
              "    </tr>\n",
              "    <tr>\n",
              "      <th>5</th>\n",
              "      <td>111334.336719</td>\n",
              "    </tr>\n",
              "    <tr>\n",
              "      <th>6</th>\n",
              "      <td>166566.821458</td>\n",
              "    </tr>\n",
              "    <tr>\n",
              "      <th>7</th>\n",
              "      <td>115819.916270</td>\n",
              "    </tr>\n",
              "    <tr>\n",
              "      <th>8</th>\n",
              "      <td>83864.642107</td>\n",
              "    </tr>\n",
              "    <tr>\n",
              "      <th>9</th>\n",
              "      <td>192317.510344</td>\n",
              "    </tr>\n",
              "  </tbody>\n",
              "</table>\n",
              "</div>"
            ],
            "text/plain": [
              "               0\n",
              "0  175485.080978\n",
              "1  101255.355965\n",
              "2   44729.260125\n",
              "3   91007.246737\n",
              "4  157010.141841\n",
              "5  111334.336719\n",
              "6  166566.821458\n",
              "7  115819.916270\n",
              "8   83864.642107\n",
              "9  192317.510344"
            ]
          },
          "execution_count": 31,
          "metadata": {},
          "output_type": "execute_result"
        }
      ]
    },
    {
      "cell_type": "markdown",
      "metadata": {
        "id": "LjwRXI3_HO1V"
      },
      "source": [
        "**Now I will compare the Actual Profits with our Predicted Profits based on our independent variables**"
      ]
    },
    {
      "cell_type": "code",
      "metadata": {
        "id": "UR_2YFpbHO1V",
        "outputId": "9948a8e4-b21d-4c8c-a534-9c30854c82c3"
      },
      "source": [
        "pred_cm = [{'Predicted value':Profits_prediction,'Actual Value':y_test}]\n",
        "pred_cm"
      ],
      "execution_count": null,
      "outputs": [
        {
          "data": {
            "text/plain": [
              "[{'Predicted value':                0\n",
              "  0  175485.080978\n",
              "  1  101255.355965\n",
              "  2   44729.260125\n",
              "  3   91007.246737\n",
              "  4  157010.141841\n",
              "  5  111334.336719\n",
              "  6  166566.821458\n",
              "  7  115819.916270\n",
              "  8   83864.642107\n",
              "  9  192317.510344, 'Actual Value': 4     166187.94\n",
              "  25    107404.34\n",
              "  45     64926.08\n",
              "  35     96479.51\n",
              "  9     149759.96\n",
              "  23    108733.99\n",
              "  5     156991.12\n",
              "  27    105008.31\n",
              "  39     81005.76\n",
              "  1     191792.06\n",
              "  Name: Profit, dtype: float64}]"
            ]
          },
          "execution_count": 32,
          "metadata": {},
          "output_type": "execute_result"
        }
      ]
    },
    {
      "cell_type": "markdown",
      "metadata": {
        "id": "CfTYOCvOHO1W"
      },
      "source": [
        "**Lastly I will Audit our Model by checking for the Accuracy and loss of our Model**"
      ]
    },
    {
      "cell_type": "code",
      "metadata": {
        "id": "fPzOs4FyHO1W",
        "outputId": "e661706a-6f8f-4072-a728-567f73fa5a68"
      },
      "source": [
        "from sklearn.metrics import r2_score\n",
        "accuracy_score = []\n",
        "accuracy_score.append(r2_score(y_test,Profits_prediction))\n",
        "ac = (r2_score(y_test,Profits_prediction))\n",
        "print(\"The Accuracy Score Of our Model is:\",ac)\n"
      ],
      "execution_count": null,
      "outputs": [
        {
          "name": "stdout",
          "output_type": "stream",
          "text": [
            "The Accuracy Score Of our Model is: 0.9443937802958297\n"
          ]
        }
      ]
    },
    {
      "cell_type": "markdown",
      "metadata": {
        "id": "QlOrHf2NHO1X"
      },
      "source": [
        "**Finding the Mean Squared Error (MSE)**"
      ]
    },
    {
      "cell_type": "code",
      "metadata": {
        "id": "LEDoNgkFHO1X",
        "outputId": "647bddea-8673-40e4-cd37-37e284d947b7"
      },
      "source": [
        "from sklearn.metrics import mean_squared_error\n",
        "MSE = []\n",
        "MSE.append(mean_squared_error(y_test,Profits_prediction))\n",
        "mean_squared_error = (mean_squared_error(y_test,Profits_prediction))\n",
        "print(\"The MSE Of our Model is:\",mean_squared_error)"
      ],
      "execution_count": null,
      "outputs": [
        {
          "name": "stdout",
          "output_type": "stream",
          "text": [
            "The MSE Of our Model is: 83846516.6588873\n"
          ]
        }
      ]
    }
  ]
}
